{
 "cells": [
  {
   "cell_type": "code",
   "execution_count": null,
   "metadata": {},
   "outputs": [],
   "source": [
    "from models.Parser import Parser\n",
    "from models.Local_Database import Local_Database\n",
    "from models.config import cleaning_methods, filter_methods\n",
    "import os"
   ]
  },
  {
   "cell_type": "code",
   "execution_count": null,
   "metadata": {},
   "outputs": [],
   "source": [
    "db = Local_Database()\n"
   ]
  },
  {
   "cell_type": "code",
   "execution_count": null,
   "metadata": {},
   "outputs": [],
   "source": [
    "p = Parser(working_dir=\".\\\\dev\\\\data\\\\\")\n"
   ]
  },
  {
   "cell_type": "code",
   "execution_count": null,
   "metadata": {},
   "outputs": [],
   "source": [
    "p.load_from_backup(\".\\\\dev\\\\data\\\\output_files\\\\\")\n"
   ]
  },
  {
   "cell_type": "code",
   "execution_count": null,
   "metadata": {},
   "outputs": [],
   "source": [
    "print(os.getcwd())\n",
    "p.update_local(\".\\\\data\\\\input_files\\\\\")"
   ]
  },
  {
   "cell_type": "code",
   "execution_count": null,
   "metadata": {},
   "outputs": [],
   "source": [
    "import re\n",
    "raw_text = \"F=C4=93nom Digital\"\n",
    "raw_text2 = 'Medix=E2=84=A2'\n",
    "\n",
    "# converted = \"{}\".format(raw_text).replace(\"=\", r\"\\x\")\n",
    "# print(bytes(converted,'utf-8').decode('utf-8', 'strict'))\n",
    "\n",
    "# b'F\\xC4\\x93nom Digital'.decode(\"utf-8\", \"strict\")\n",
    "\n",
    "def clean_unicode(entry):\n",
    "    match_pattern = re.compile(r'((=[A-F0-9]{2})+)')\n",
    "    replacement_func = lambda y: y.group(1).replace(\"=\",r\"\\x\") #TODO find out how to replace character with its unicode equivalent\n",
    "    clean_func = lambda x: re.sub(match_pattern, replacement_func, x)\n",
    "    result1 = clean_func(entry)\n",
    "    exec(f\"result=b'{result1}'.decode('utf-8')\")\n",
    "    local_result = result1\n",
    "    return local_result\n",
    "\n",
    "\n",
    "\n",
    "# c4 = (b'\\xC4\\x93').decode('utf-8', 'strict')\n",
    "\n",
    "# result = \n",
    "# exec(f\"result=b'{clean_func(raw_text2)}'.decode('utf-8')\")\n",
    "print(raw_text)\n",
    "print(clean_unicode(raw_text))\n",
    "# print(\"Converted\", bytes(converted.replace(r'\\\\x',r\"\\x\" ), 'utf-8'))"
   ]
  },
  {
   "cell_type": "code",
   "execution_count": null,
   "metadata": {},
   "outputs": [],
   "source": [
    "# raw_text = \"F=C4=93nom Digital\".replace(\"=\", r\"\\x\")\n",
    "# raw_text = \"F=C4=93nom Digital;exec(print(os.dir())\".replace(\"=\", r\"\\x\") \n",
    "test_func = lambda raw_text: exec(f'result=b\"{raw_text}\".decode(\"utf-8\")')\n",
    "\n",
    "test_func(\"F=C4=93nom Digital\".replace(\"=\", r\"\\x\"))\n",
    "print(result)\n",
    "# a.decode('utf-8')"
   ]
  },
  {
   "cell_type": "code",
   "execution_count": null,
   "metadata": {},
   "outputs": [],
   "source": [
    "methods = {\n",
    "    \"testme\": exec(f'res=b\"{x}\".decode(\"utf-8\")')\\\n",
    "}\n",
    "\n",
    "\n",
    "input = (\"F=C4=93nom Digital\".replace(\"=\", r\"\\x\"))\n",
    "\n",
    "testing = lambda x: methods[\"testme\"](x)\n",
    "res = testing(input)\n",
    "print(res)"
   ]
  },
  {
   "cell_type": "code",
   "execution_count": null,
   "metadata": {},
   "outputs": [],
   "source": [
    "import re\n",
    "raw_text = \"F=C4=93nom Digital\"\n",
    "raw_text2 = 'Medix=E2=84=A2'\n",
    "\n",
    "# converted = \"{}\".format(raw_text).replace(\"=\", r\"\\x\")\n",
    "# print(bytes(converted,'utf-8').decode('utf-8', 'strict'))\n",
    "\n",
    "\n",
    "\n",
    "# b'F\\xC4\\x93nom Digital'.decode(\"utf-8\", \"strict\")\n",
    "\n",
    "def clean_unicode(entry):\n",
    "    match_pattern = re.compile(r'((=[A-F0-9]{2})+)')\n",
    "    replacement_func = lambda y: y.group(1).replace(\"=\",r\"\\x\") #TODO find out how to replace character with its unicode equivalent\n",
    "    clean_func = lambda x: re.sub(match_pattern, replacement_func, x)\n",
    "    result1 = clean_func(entry)\n",
    "    exec(f\"result=b'{result1}'.decode('utf-8')\")\n",
    "    local_result = result\n",
    "    return local_result\n",
    "\n",
    "\n",
    "\n",
    "# c4 = (b'\\xC4\\x93').decode('utf-8', 'strict')\n",
    "\n",
    "# result = \n",
    "# exec(f\"result=b'{clean_func(raw_text2)}'.decode('utf-8')\")\n",
    "print(raw_text)\n",
    "print(clean_unicode(raw_text))\n",
    "# print(\"Converted\", bytes(converted.replace(r'\\\\x',r\"\\x\" ), 'utf-8'))"
   ]
  },
  {
   "cell_type": "code",
   "execution_count": null,
   "metadata": {},
   "outputs": [],
   "source": [
    "def clean_encoding(entry):\n",
    "    cloned_entry = entry\n",
    "    match_pattern = re.compile(r'((=[A-F0-9]{2})+)')\n",
    "    replacement_func = lambda y: \"0\"\n",
    "    new_entry = re.sub(match_pattern, replacement_func, cloned_entry)\n",
    "    arr = bytes(new_entry, 'utf-8')\n",
    "    print(arr)\n",
    "    result = []\n",
    "    for byte in arr:\n",
    "        if byte==48:\n",
    "            result.append(196)\n",
    "            result.append(147)\n",
    "        else:\n",
    "            result.append(byte)\n",
    "        \n",
    "    print(result)\n",
    "    print(new_entry)\n",
    "    realsult = \" \".join([str(item) for item in result])\n",
    "    \n",
    "    print(realsult)\n",
    "clean_encoding(raw_text)\n",
    "\n",
    "\n",
    "# b'FC493nom Digital'\n",
    "# 70 67 52 57 51 110 111 109 32 68 105 103 105 116 97 108\n",
    "\n",
    "# b'F C4 93nom Digital'\n",
    "# 70 32 67 52 32 57 51 110 111 109 32 68 105 103 105 116 97 108\n",
    "\n",
    "# b'F0nom Digital'\n",
    "# 70 48 110 111 109 32 68 105 103 105 116 97 108"
   ]
  },
  {
   "cell_type": "code",
   "execution_count": null,
   "metadata": {},
   "outputs": [],
   "source": [
    "import email.header\n",
    "\n",
    "\n",
    "\n",
    "def decode_mime_stuff(s):\n",
    "    return u''.join(\n",
    "        word.decode(encoding or 'utf8') if isinstance(word, bytes) else word\n",
    "        for word, encoding in email.header.decode_header(s))\n"
   ]
  }
 ],
 "metadata": {
  "kernelspec": {
   "display_name": "Python 3.10.6 ('devenv': venv)",
   "language": "python",
   "name": "python3"
  },
  "language_info": {
   "codemirror_mode": {
    "name": "ipython",
    "version": 3
   },
   "file_extension": ".py",
   "mimetype": "text/x-python",
   "name": "python",
   "nbconvert_exporter": "python",
   "pygments_lexer": "ipython3",
   "version": "3.10.6"
  },
  "orig_nbformat": 4,
  "vscode": {
   "interpreter": {
    "hash": "ca60e0285cea80f50fc6ff8d3b9ac5d7103f3bc90a48f0b3a1ef8e26510277bd"
   }
  }
 },
 "nbformat": 4,
 "nbformat_minor": 2
}
