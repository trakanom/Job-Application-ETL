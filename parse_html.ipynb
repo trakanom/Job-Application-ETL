{
 "cells": [
  {
   "cell_type": "code",
   "execution_count": null,
   "metadata": {},
   "outputs": [],
   "source": [
    "import requests\n",
    "import time\n",
    "import csv\n",
    "import re\n",
    "import html5lib\n",
    "from bs4 import BeautifulSoup"
   ]
  },
  {
   "cell_type": "code",
   "execution_count": null,
   "metadata": {},
   "outputs": [],
   "source": [
    "PostID = 3318210330\n",
    "PostURL = f'https://www.linkedin.com/jobs/view/{PostID}/'\n",
    "\n",
    "def soupify(URL, parsing_lib=None):\n",
    "    parsing_lib = \"html5lib\" if parsing_lib==None else parsing_lib\n",
    "    html_text = requests.get(URL).text\n",
    "    soup = BeautifulSoup(html_text, parsing_lib)\n",
    "    return soup\n",
    "\n",
    "# try:\n",
    "html_text = requests.get(PostURL).text\n",
    "# print(html_text)\n",
    "soup = BeautifulSoup(html_text, \"html5lib\")\n",
    "\n",
    "\n",
    "\n",
    "\n",
    "\n",
    "print(soup)\n",
    "# except Error as e:\n",
    "#     print(\"Error\", e)"
   ]
  },
  {
   "cell_type": "code",
   "execution_count": null,
   "metadata": {},
   "outputs": [],
   "source": [
    "def parse_listing(URL, parsing_lib=None):\n",
    "    '''\n",
    "    Parses job listings posted LinkedIn on LinkedIn using BeautifulSoup and a dictionary with key:method pairs for easy data object creation.\n",
    "    '''\n",
    "    parsing_lib = \"html5lib\" if parsing_lib==None else parsing_lib\n",
    "    html_text = requests.get(URL).text\n",
    "    soup = BeautifulSoup(html_text, parsing_lib)\n",
    "\n",
    "    listing_filters = {\n",
    "        '''\n",
    "        This dict contains methods to assign captured values to a key.\n",
    "        '''\n",
    "        \"Company_URL\":lambda x: x.find(\"a\",{\"data-tracking-control-name\":\"public_jobs_topcard-org-name\"})['href'].split(\"?\")[0],\n",
    "        \"Position_Tags\":lambda x: [result.text.strip() for result in x.find_all(\"span\",class_=\"description__job-criteria-text description__job-criteria-text--criteria\")],\n",
    "        \"Posted_Time\":lambda x: x.find(\"span\", class_=\"posted-time-ago__text topcard__flavor--metadata\").text.strip(),\n",
    "        \"Location\":lambda x: x.find(\"span\", class_=\"topcard__flavor topcard__flavor--bullet\").text.strip(),\n",
    "        \"Number_Applicants\":lambda x: x.find(\"span\", class_=\"num-applicants__caption topcard__flavor--metadata topcard__flavor--bullet\").text.replace(\" applicants\",\"\").strip(),\n",
    "        \"Post_Body\":lambda x: x.find(\"div\", class_=\"show-more-less-html__markup show-more-less-html__markup--clamp-after-5\").text.strip(),\n",
    "        \"Recruiter_Profile\": lambda x: x.find(\"a\", class_=\"message-the-recruiter__cta\")\n",
    "        # \"Salary\":..., Looks like this isn't available without login\n",
    "    }\n",
    "\n",
    "    data = {key : listing_filters[key](soup) for key in listing_filters}\n",
    "    return data\n",
    "\n",
    "\n",
    "PostID = 3318210330\n",
    "PostURL = f'https://www.linkedin.com/jobs/view/{PostID}/'\n",
    "parse_listing(PostURL, \"html5lib\")"
   ]
  },
  {
   "cell_type": "code",
   "execution_count": null,
   "metadata": {},
   "outputs": [],
   "source": [
    "import re\n",
    "raw_text = \"F=C4=93nom Digital\"\n",
    "raw_text2 = 'Medix=E2=84=A2'\n",
    "\n",
    "# converted = \"{}\".format(raw_text).replace(\"=\", r\"\\x\")\n",
    "# print(bytes(converted,'utf-8').decode('utf-8', 'strict'))\n",
    "\n",
    "\n",
    "\n",
    "# b'F\\xC4\\x93nom Digital'.decode(\"utf-8\", \"strict\")\n",
    "\n",
    "def clean_unicode(entry):\n",
    "    \n",
    "    match_pattern = re.compile(r'((=[A-F0-9]{2})+)')\n",
    "    replacement_func = lambda y: y.group(1).replace(\"=\",r\"\\x\") #TODO find out how to replace character with its unicode equivalent\n",
    "    clean_func = lambda x: re.sub(match_pattern, replacement_func, x)\n",
    "    result1 = clean_func(entry)\n",
    "    exec(f\"result=b'{result1}'.decode('utf-8')\")\n",
    "    local_result = result\n",
    "    return local_result\n",
    "\n",
    "\n",
    "\n",
    "# c4 = (b'\\xC4\\x93').decode('utf-8', 'strict')\n",
    "\n",
    "# result = \n",
    "# exec(f\"result=b'{clean_func(raw_text2)}'.decode('utf-8')\")\n",
    "print(raw_text)\n",
    "print(clean_unicode(raw_text))"
   ]
  },
  {
   "cell_type": "code",
   "execution_count": null,
   "metadata": {},
   "outputs": [],
   "source": [
    "print(soup.get_text())"
   ]
  },
  {
   "cell_type": "code",
   "execution_count": null,
   "metadata": {},
   "outputs": [],
   "source": [
    "\n",
    "results = [result.text.strip() for result in soup.find_all(\"span\",class_=\"description__job-criteria-text description__job-criteria-text--criteria\")]\n",
    "resultlist = []\n",
    "for result in results:\n",
    "    # print(result['class'][0])\n",
    "    print(\"RESULT\", result)\n",
    "    resultlist.append(result.text.strip())\n",
    "        # print(result)\n",
    "# soup.find_all(\"span\", class_=\"topcard__flavor\")\n",
    "print(resultlist)\n",
    "\n"
   ]
  },
  {
   "cell_type": "code",
   "execution_count": null,
   "metadata": {},
   "outputs": [],
   "source": [
    "print(resultlist)"
   ]
  },
  {
   "cell_type": "code",
   "execution_count": null,
   "metadata": {},
   "outputs": [],
   "source": [
    "print(soup)"
   ]
  },
  {
   "cell_type": "code",
   "execution_count": null,
   "metadata": {},
   "outputs": [],
   "source": [
    "import base64\n",
    "import email\n",
    "file_path=\"..\\\\data\\\\test_data\\\\Your application to Data Engineer at Applicantz.eml\"\n",
    "with open(file_path, 'r', encoding = 'utf-8') as file:\n",
    "    # decoded = base64.b64decode(file)\n",
    "    \n",
    "    # print(\"decoded: \", decoded)\n",
    "    alphabet_soup = BeautifulSoup(file,\"utf-8\")\n",
    "    print(alphabet_soup.find_all(\"X-LinkedIn-Template:\"))"
   ]
  },
  {
   "cell_type": "code",
   "execution_count": null,
   "metadata": {},
   "outputs": [],
   "source": [
    "import email\n",
    "def decode_mime_stuff(s):\n",
    "    # print(s)\n",
    "    if \"=?\" in s:\n",
    "        # print(s)\n",
    "        results =  u''.join(\n",
    "            word.decode(encoding or 'utf8') if isinstance(word, bytes) else word\n",
    "            for word, encoding in email.header.decode_header(s))\n",
    "    else:\n",
    "        results = s\n",
    "    results = \" \".join(results.replace(\"\\n\",\"\").strip().split(\" \")[3:])\n",
    "    return results\n",
    "\n",
    "test_text = \"=?UTF-8?Q?You_applied_for_Data_Analyst_at_F=C4=93nom_Digital?=\"\n",
    "parse_me = \"You applied for Software Engineer at Simple Securities\"\n",
    "a = lambda x: decode_mime_stuff(x)\n",
    "print(a(test_text))\n",
    "print(a(parse_me))"
   ]
  },
  {
   "cell_type": "code",
   "execution_count": null,
   "metadata": {},
   "outputs": [],
   "source": [
    "def decode_mime_stuff_2(s):\n",
    "    return u''.join(\n",
    "        word.decode(encoding or 'utf8') if isinstance(word, bytes) else word\n",
    "        for word, encoding in email.header.decode_header(s))\n",
    "\n",
    "decode_mime_stuff_2(test_text)"
   ]
  }
 ],
 "metadata": {
  "kernelspec": {
   "display_name": "Python 3.10.6 ('devenv': venv)",
   "language": "python",
   "name": "python3"
  },
  "language_info": {
   "codemirror_mode": {
    "name": "ipython",
    "version": 3
   },
   "file_extension": ".py",
   "mimetype": "text/x-python",
   "name": "python",
   "nbconvert_exporter": "python",
   "pygments_lexer": "ipython3",
   "version": "3.10.6"
  },
  "orig_nbformat": 4,
  "vscode": {
   "interpreter": {
    "hash": "ca60e0285cea80f50fc6ff8d3b9ac5d7103f3bc90a48f0b3a1ef8e26510277bd"
   }
  }
 },
 "nbformat": 4,
 "nbformat_minor": 2
}
