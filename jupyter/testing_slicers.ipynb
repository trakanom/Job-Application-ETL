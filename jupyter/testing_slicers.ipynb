{
 "cells": [
  {
   "cell_type": "code",
   "execution_count": 1,
   "metadata": {},
   "outputs": [
    {
     "ename": "ModuleNotFoundError",
     "evalue": "No module named 'models'",
     "output_type": "error",
     "traceback": [
      "\u001b[1;31m---------------------------------------------------------------------------\u001b[0m",
      "\u001b[1;31mModuleNotFoundError\u001b[0m                       Traceback (most recent call last)",
      "Cell \u001b[1;32mIn[1], line 1\u001b[0m\n\u001b[1;32m----> 1\u001b[0m \u001b[38;5;28;01mfrom\u001b[39;00m \u001b[38;5;21;01mmodels\u001b[39;00m\u001b[38;5;21;01m.\u001b[39;00m\u001b[38;5;21;01mconfig\u001b[39;00m\u001b[38;5;21;01m.\u001b[39;00m\u001b[38;5;21;01mfilter_methods\u001b[39;00m \u001b[38;5;28;01mimport\u001b[39;00m testing_platform_filters\n\u001b[0;32m      3\u001b[0m \u001b[38;5;28;01mdef\u001b[39;00m \u001b[38;5;21mexists\u001b[39m(var):\n\u001b[0;32m      4\u001b[0m     \u001b[38;5;28;01mtry\u001b[39;00m:\n",
      "\u001b[1;31mModuleNotFoundError\u001b[0m: No module named 'models'"
     ]
    }
   ],
   "source": [
    "from models.config.filter_methods import testing_platform_filters\n",
    "def exists(var):\n",
    "    try:\n",
    "        a = exec(var) #lol... TODO: Not this.\n",
    "        return True\n",
    "    except:\n",
    "        return False\n",
    "\n",
    "\n",
    "def get_filter_set(self, filter_path, filter_library=None):\n",
    "    if filter_library is None:\n",
    "        if exists(\"self.default_filter_dict\"):\n",
    "            filter_library=self.default_filter_dict\n",
    "        else:\n",
    "            try: #TODO try os path appending to \n",
    "                from models.config.filter_methods import testing_platform_filters\n",
    "                filter_library=testing_platform_filters\n",
    "            except ModuleNotFoundError:\n",
    "                try:\n",
    "                    from .models.config.filter_methods import testing_platform_filters\n",
    "                    filter_library=testing_platform_filters\n",
    "                except:\n",
    "                    return \"Cannot import module.\"\n",
    "    \n",
    "    # parsing_methods = self.default_filter_dict\n",
    "    parsing_methods = filter_library\n",
    "    for slicer in filter_path.split(\".\"):\n",
    "        parsing_methods = parsing_methods[slicer]\n",
    "    return parsing_methods\n",
    "\n",
    "platform = \"LinkedIn\"\n",
    "filter_path=f\"{platform}.selenium-client.post\"\n",
    "get_filter_set(testing_platform_filters, filter_path=filter_path)"
   ]
  },
  {
   "cell_type": "code",
   "execution_count": 8,
   "metadata": {},
   "outputs": [
    {
     "data": {
      "text/plain": [
       "'c:\\\\Users\\\\mikaw\\\\pyproj\\\\Application_ETL\\\\models\\\\config'"
      ]
     },
     "execution_count": 8,
     "metadata": {},
     "output_type": "execute_result"
    }
   ],
   "source": [
    "\"\\\\\".join(os.getcwd().split(\"\\\\\")[:-1])+\"\\\\models\\\\config\"\n"
   ]
  }
 ],
 "metadata": {
  "kernelspec": {
   "display_name": "Python 3.10.6 ('env': venv)",
   "language": "python",
   "name": "python3"
  },
  "language_info": {
   "codemirror_mode": {
    "name": "ipython",
    "version": 3
   },
   "file_extension": ".py",
   "mimetype": "text/x-python",
   "name": "python",
   "nbconvert_exporter": "python",
   "pygments_lexer": "ipython3",
   "version": "3.10.6"
  },
  "orig_nbformat": 4,
  "vscode": {
   "interpreter": {
    "hash": "399a9d11d30023575aa8ab44e5cdfa7d8745c09e6b956c5bb300f6c3d1342df0"
   }
  }
 },
 "nbformat": 4,
 "nbformat_minor": 2
}
