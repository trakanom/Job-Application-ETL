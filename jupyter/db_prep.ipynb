{
 "cells": [
  {
   "cell_type": "code",
   "execution_count": 1,
   "metadata": {},
   "outputs": [],
   "source": [
    "import sqlalchemy\n",
    "# create my-sqlite.db in the current directory using sqlalchemy\n",
    "db = sqlalchemy.create_engine('sqlite:///my-sqlite.db') "
   ]
  }
 ],
 "metadata": {
  "kernelspec": {
   "display_name": "Python 3.10.6 ('devenv': venv)",
   "language": "python",
   "name": "python3"
  },
  "language_info": {
   "codemirror_mode": {
    "name": "ipython",
    "version": 3
   },
   "file_extension": ".py",
   "mimetype": "text/x-python",
   "name": "python",
   "nbconvert_exporter": "python",
   "pygments_lexer": "ipython3",
   "version": "3.10.6"
  },
  "orig_nbformat": 4,
  "vscode": {
   "interpreter": {
    "hash": "ca60e0285cea80f50fc6ff8d3b9ac5d7103f3bc90a48f0b3a1ef8e26510277bd"
   }
  }
 },
 "nbformat": 4,
 "nbformat_minor": 2
}
