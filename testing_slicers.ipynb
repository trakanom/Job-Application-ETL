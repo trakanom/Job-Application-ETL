{
 "cells": [
  {
   "cell_type": "code",
   "execution_count": null,
   "metadata": {},
   "outputs": [],
   "source": [
    "from models.config.filter_methods import testing_platform_filters\n",
    "\n",
    "def exists(var):\n",
    "    try:\n",
    "        a = exec(var) #lol... TODO: Not this.\n",
    "        return True\n",
    "    except:\n",
    "        return False\n",
    "\n",
    "\n",
    "def get_filter_set(self, filter_path, filter_library=None):\n",
    "    if filter_library is None:\n",
    "        if exists(\"self.default_filter_dict\"):\n",
    "            filter_library=self.default_filter_dict\n",
    "        else:\n",
    "            try:\n",
    "                from models.config.filter_methods import testing_platform_filters\n",
    "                filter_library=testing_platform_filters\n",
    "            except:\n",
    "                from .models.config.filter_methods import testing_platform_filters\n",
    "                filter_library=testing_platform_filters\n",
    "    \n",
    "    # parsing_methods = self.default_filter_dict\n",
    "    parsing_methods = filter_library\n",
    "    for slicer in filter_path.split(\".\"):\n",
    "        parsing_methods = parsing_methods[slicer]\n",
    "    return parsing_methods\n",
    "\n",
    "platform = \"LinkedIn\"\n",
    "filter_path=f\"{platform}.selenium-client.post\"\n",
    "get_filter_set(testing_platform_filters, filter_path=filter_path)"
   ]
  }
 ],
 "metadata": {
  "kernelspec": {
   "display_name": "Python 3.10.6 ('devenv': venv)",
   "language": "python",
   "name": "python3"
  },
  "language_info": {
   "codemirror_mode": {
    "name": "ipython",
    "version": 3
   },
   "file_extension": ".py",
   "mimetype": "text/x-python",
   "name": "python",
   "nbconvert_exporter": "python",
   "pygments_lexer": "ipython3",
   "version": "3.10.6"
  },
  "orig_nbformat": 4,
  "vscode": {
   "interpreter": {
    "hash": "ca60e0285cea80f50fc6ff8d3b9ac5d7103f3bc90a48f0b3a1ef8e26510277bd"
   }
  }
 },
 "nbformat": 4,
 "nbformat_minor": 2
}
